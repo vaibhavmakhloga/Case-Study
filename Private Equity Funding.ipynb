{
 "cells": [
  {
   "cell_type": "code",
   "execution_count": 3,
   "metadata": {},
   "outputs": [],
   "source": [
    "import pandas as pd\n",
    "import numpy as np\n",
    "import matplotlib.pyplot as plt\n",
    "import matplotlib.patches as mpatches\n",
    "import seaborn as sns"
   ]
  },
  {
   "cell_type": "code",
   "execution_count": 4,
   "metadata": {},
   "outputs": [],
   "source": [
    "data=pd.read_csv('../Case-Study/Dataset/startup_funding.csv')"
   ]
  },
  {
   "cell_type": "code",
   "execution_count": 5,
   "metadata": {},
   "outputs": [
    {
     "data": {
      "text/html": [
       "<div>\n",
       "<style scoped>\n",
       "    .dataframe tbody tr th:only-of-type {\n",
       "        vertical-align: middle;\n",
       "    }\n",
       "\n",
       "    .dataframe tbody tr th {\n",
       "        vertical-align: top;\n",
       "    }\n",
       "\n",
       "    .dataframe thead th {\n",
       "        text-align: right;\n",
       "    }\n",
       "</style>\n",
       "<table border=\"1\" class=\"dataframe\">\n",
       "  <thead>\n",
       "    <tr style=\"text-align: right;\">\n",
       "      <th></th>\n",
       "      <th>SNo</th>\n",
       "      <th>Date</th>\n",
       "      <th>StartupName</th>\n",
       "      <th>IndustryVertical</th>\n",
       "      <th>SubVertical</th>\n",
       "      <th>CityLocation</th>\n",
       "      <th>InvestorsName</th>\n",
       "      <th>InvestmentType</th>\n",
       "      <th>AmountInUSD</th>\n",
       "      <th>Remarks</th>\n",
       "    </tr>\n",
       "  </thead>\n",
       "  <tbody>\n",
       "    <tr>\n",
       "      <th>0</th>\n",
       "      <td>0</td>\n",
       "      <td>01/08/2017</td>\n",
       "      <td>TouchKin</td>\n",
       "      <td>Technology</td>\n",
       "      <td>Predictive Care Platform</td>\n",
       "      <td>Bangalore</td>\n",
       "      <td>Kae Capital</td>\n",
       "      <td>Private Equity</td>\n",
       "      <td>1,300,000</td>\n",
       "      <td>NaN</td>\n",
       "    </tr>\n",
       "    <tr>\n",
       "      <th>1</th>\n",
       "      <td>1</td>\n",
       "      <td>02/08/2017</td>\n",
       "      <td>Ethinos</td>\n",
       "      <td>Technology</td>\n",
       "      <td>Digital Marketing Agency</td>\n",
       "      <td>Mumbai</td>\n",
       "      <td>Triton Investment Advisors</td>\n",
       "      <td>Private Equity</td>\n",
       "      <td>NaN</td>\n",
       "      <td>NaN</td>\n",
       "    </tr>\n",
       "    <tr>\n",
       "      <th>2</th>\n",
       "      <td>2</td>\n",
       "      <td>02/08/2017</td>\n",
       "      <td>Leverage Edu</td>\n",
       "      <td>Consumer Internet</td>\n",
       "      <td>Online platform for Higher Education Services</td>\n",
       "      <td>New Delhi</td>\n",
       "      <td>Kashyap Deorah, Anand Sankeshwar, Deepak Jain,...</td>\n",
       "      <td>Seed Funding</td>\n",
       "      <td>NaN</td>\n",
       "      <td>NaN</td>\n",
       "    </tr>\n",
       "    <tr>\n",
       "      <th>3</th>\n",
       "      <td>3</td>\n",
       "      <td>02/08/2017</td>\n",
       "      <td>Zepo</td>\n",
       "      <td>Consumer Internet</td>\n",
       "      <td>DIY Ecommerce platform</td>\n",
       "      <td>Mumbai</td>\n",
       "      <td>Kunal Shah, LetsVenture, Anupam Mittal, Hetal ...</td>\n",
       "      <td>Seed Funding</td>\n",
       "      <td>500,000</td>\n",
       "      <td>NaN</td>\n",
       "    </tr>\n",
       "    <tr>\n",
       "      <th>4</th>\n",
       "      <td>4</td>\n",
       "      <td>02/08/2017</td>\n",
       "      <td>Click2Clinic</td>\n",
       "      <td>Consumer Internet</td>\n",
       "      <td>healthcare service aggregator</td>\n",
       "      <td>Hyderabad</td>\n",
       "      <td>Narottam Thudi, Shireesh Palle</td>\n",
       "      <td>Seed Funding</td>\n",
       "      <td>850,000</td>\n",
       "      <td>NaN</td>\n",
       "    </tr>\n",
       "  </tbody>\n",
       "</table>\n",
       "</div>"
      ],
      "text/plain": [
       "   SNo        Date   StartupName   IndustryVertical  \\\n",
       "0    0  01/08/2017      TouchKin         Technology   \n",
       "1    1  02/08/2017       Ethinos         Technology   \n",
       "2    2  02/08/2017  Leverage Edu  Consumer Internet   \n",
       "3    3  02/08/2017          Zepo  Consumer Internet   \n",
       "4    4  02/08/2017  Click2Clinic  Consumer Internet   \n",
       "\n",
       "                                     SubVertical CityLocation  \\\n",
       "0                       Predictive Care Platform    Bangalore   \n",
       "1                       Digital Marketing Agency       Mumbai   \n",
       "2  Online platform for Higher Education Services    New Delhi   \n",
       "3                         DIY Ecommerce platform       Mumbai   \n",
       "4                  healthcare service aggregator    Hyderabad   \n",
       "\n",
       "                                       InvestorsName  InvestmentType  \\\n",
       "0                                        Kae Capital  Private Equity   \n",
       "1                         Triton Investment Advisors  Private Equity   \n",
       "2  Kashyap Deorah, Anand Sankeshwar, Deepak Jain,...    Seed Funding   \n",
       "3  Kunal Shah, LetsVenture, Anupam Mittal, Hetal ...    Seed Funding   \n",
       "4                     Narottam Thudi, Shireesh Palle    Seed Funding   \n",
       "\n",
       "  AmountInUSD Remarks  \n",
       "0   1,300,000     NaN  \n",
       "1         NaN     NaN  \n",
       "2         NaN     NaN  \n",
       "3     500,000     NaN  \n",
       "4     850,000     NaN  "
      ]
     },
     "execution_count": 5,
     "metadata": {},
     "output_type": "execute_result"
    }
   ],
   "source": [
    "data.head()"
   ]
  },
  {
   "cell_type": "code",
   "execution_count": 10,
   "metadata": {},
   "outputs": [],
   "source": [
    "# Droping the Investors Name and Investment Type\n",
    "## Deleting the NAN AND INF VALUE\n",
    "data.replace([np.inf, -np.inf], np.nan,inplace=True)\n",
    "data.dropna(subset=[\"InvestorsName\",\"InvestmentType\"], how=\"all\",inplace=True)\n",
    "data['InvestorsName'].dropna(inplace=True)"
   ]
  },
  {
   "cell_type": "code",
   "execution_count": 11,
   "metadata": {},
   "outputs": [],
   "source": [
    "# Correcting the important start up name\n",
    "data['StartupName'].replace('Olacabs','Ola',inplace=True)\n",
    "data['StartupName'].replace('Ola Cabs','Ola',inplace=True)\n",
    "data['StartupName'].replace('Flipkart.com','Flipkart',inplace=True)\n",
    "data['StartupName'].replace('Oyo Rooms','Oyo',inplace=True)\n",
    "data['StartupName'].replace('Oyorooms','Oyo',inplace=True)\n",
    "data['StartupName'].replace('OyoRooms','Oyo',inplace=True)\n",
    "data['StartupName'].replace('OYO Rooms','Oyo',inplace=True)\n",
    "data['StartupName'].replace('Paytm Marketplace','Paytm',inplace=True)\n"
   ]
  },
  {
   "cell_type": "code",
   "execution_count": 12,
   "metadata": {},
   "outputs": [],
   "source": [
    "# Correcting the Investment Type in dataset\n",
    "data['InvestmentType'].replace('SeedFunding','Seed Funding',inplace=True)\n",
    "data['InvestmentType'].replace('PrivateEquity','Private Equity',inplace=True)\n",
    "data['InvestmentType'].replace('Crowd funding','Crowd Funding',inplace=True)\n"
   ]
  },
  {
   "cell_type": "code",
   "execution_count": 13,
   "metadata": {},
   "outputs": [],
   "source": [
    "# Creating a dictionary of Investors and company he invested\n",
    "def createDictionary(investor_list,company_list,investment_type_list):\n",
    "    dictionary={}\n",
    "    for i in range(len(investor_list)):\n",
    "        company_name=company_list[i]\n",
    "        investor_names=investor_list[i]\n",
    "        investment_type=investment_type_list[i]\n",
    "        if investment_type == 'Private Equity':\n",
    "            if ',' not in investor_names:\n",
    "                if investor_names.strip() in dictionary:\n",
    "                    company_set=dictionary.get(investor_names.strip())\n",
    "                    company_set.add(company_name)\n",
    "                    dictionary[investor_names.strip()]=company_set\n",
    "                else:\n",
    "                    company_set=set()\n",
    "                    company_set.add(company_name)\n",
    "                    dictionary[investor_names.strip()]=company_set\n",
    "            else:\n",
    "                investors=investor_names.strip().split(',')\n",
    "                for j in investors:\n",
    "                    if j.strip() in dictionary:\n",
    "                        company_set=dictionary.get(j.strip())\n",
    "                        company_set.add(company_name)\n",
    "                        dictionary[j.strip()]=company_set\n",
    "                    else:\n",
    "                        company_set=set()\n",
    "                        company_set.add(company_name)\n",
    "                        dictionary[j.strip()]=company_set\n",
    "    return dictionary \n",
    "dictionary=createDictionary(data['InvestorsName'].values,data['StartupName'].values,data['InvestmentType'].values)   "
   ]
  },
  {
   "cell_type": "code",
   "execution_count": 14,
   "metadata": {},
   "outputs": [],
   "source": [
    "# Creating dictionary with investors name and length of set\n",
    "unique_investor_company={}\n",
    "for key in dictionary.keys():\n",
    "    values=dictionary.get(key)\n",
    "    unique_investor_company[key]=len(values)\n",
    "del unique_investor_company[\"\"] \n",
    "del unique_investor_company[\"Undisclosed investors\"] \n",
    "del unique_investor_company[\"Undisclosed Investors\"]\n"
   ]
  },
  {
   "cell_type": "code",
   "execution_count": 15,
   "metadata": {},
   "outputs": [],
   "source": [
    "# Creating a dataframe of keys and values\n",
    "dataf=pd.DataFrame(list(unique_investor_company.values()),list(unique_investor_company.keys()))\n"
   ]
  },
  {
   "cell_type": "code",
   "execution_count": 16,
   "metadata": {},
   "outputs": [],
   "source": [
    "## Sorting the values in descending order\n",
    "dataf=dataf.sort_values(by=[0],ascending=False)\n"
   ]
  },
  {
   "cell_type": "code",
   "execution_count": 17,
   "metadata": {},
   "outputs": [],
   "source": [
    "# Getting the top 5 values of Investor done max number of times in different startup\n",
    "X=dataf.index[0:5]\n",
    "Y=dataf.values[0:5]\n",
    "Y=Y.reshape(5)\n"
   ]
  },
  {
   "cell_type": "code",
   "execution_count": 18,
   "metadata": {},
   "outputs": [
    {
     "name": "stdout",
     "output_type": "stream",
     "text": [
      "Sequoia Capital 36\n",
      "Accel Partners 20\n",
      "SAIF Partners 18\n",
      "Blume Ventures 16\n",
      "Ratan Tata 15\n"
     ]
    }
   ],
   "source": [
    "## Printing the Top 5 Investors\n",
    "for i in range(5):\n",
    "    print(X[i],Y[i])"
   ]
  },
  {
   "cell_type": "code",
   "execution_count": 19,
   "metadata": {},
   "outputs": [
    {
     "data": {
      "image/png": "[encoded data removed]",
      "text/plain": [
       "<Figure size 720x720 with 1 Axes>"
      ]
     },
     "metadata": {
      "needs_background": "light"
     },
     "output_type": "display_data"
    }
   ],
   "source": [
    "## Ploting the City vs Number of funding done \n",
    "plt.subplots(figsize=(10,10))\n",
    "plt.xlabel(\"Investors Name\")\n",
    "plt.ylabel(\"Number of Funding Done in different startup and Type is Seed Funding or Crowd Funding\")\n",
    "sns.set(style=\"whitegrid\")\n",
    "tips = sns.load_dataset(\"tips\")\n",
    "ax = sns.barplot(x=X, y=Y, data=tips)"
   ]
  }
 ],
 "metadata": {
  "kernelspec": {
   "display_name": "Python 3",
   "language": "python",
   "name": "python3"
  },
  "language_info": {
   "codemirror_mode": {
    "name": "ipython",
    "version": 3
   },
   "file_extension": ".py",
   "mimetype": "text/x-python",
   "name": "python",
   "nbconvert_exporter": "python",
   "pygments_lexer": "ipython3",
   "version": "3.7.1"
  }
 },
 "nbformat": 4,
 "nbformat_minor": 2
}
