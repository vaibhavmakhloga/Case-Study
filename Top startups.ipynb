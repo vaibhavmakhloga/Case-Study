{
 "cells": [
  {
   "cell_type": "code",
   "execution_count": 28,
   "metadata": {},
   "outputs": [],
   "source": [
    "import pandas as pd\n",
    "import matplotlib.pyplot as plt\n",
    "from matplotlib.pyplot import figure\n",
    "import seaborn as sns"
   ]
  },
  {
   "cell_type": "code",
   "execution_count": 29,
   "metadata": {},
   "outputs": [],
   "source": [
    "new=pd.read_csv('../Case-Study/Dataset/startup_funding.csv')\n",
    "df2=new.copy()"
   ]
  },
  {
   "cell_type": "code",
   "execution_count": 30,
   "metadata": {},
   "outputs": [
    {
     "data": {
      "text/plain": [
       "Ola                           9\n",
       "Swiggy                        7\n",
       "UrbanClap                     6\n",
       "Paytm                         6\n",
       "Flipkart                      5\n",
       "Medinfi                       5\n",
       "Jugnoo                        5\n",
       "NoBroker                      5\n",
       "HolaChef                      4\n",
       "Tracxn                        4\n",
       "TinyStep                      4\n",
       "YepMe                         4\n",
       "Capital Float                 4\n",
       "Wooplr                        4\n",
       "Voonik                        4\n",
       "Byju’s                        4\n",
       "Vyomo                         4\n",
       "Niki.ai                       4\n",
       "Simplilearn                   4\n",
       "Oyo                           4\n",
       "Moglix                        4\n",
       "Rivigo                        3\n",
       "Delhivery                     3\n",
       "Fynd                          3\n",
       "LensKart                      3\n",
       "Bonhomia                      3\n",
       "CredR                         3\n",
       "Truebil                       3\n",
       "RailYatri                     3\n",
       "Icertis                       3\n",
       "                             ..\n",
       "The Good Life                 1\n",
       "WIMWI Foods                   1\n",
       "trueHb                        1\n",
       "Pragmatix                     1\n",
       "eSwasthya                     1\n",
       "ImageProVision                1\n",
       "Runnr                         1\n",
       "Squadrun                      1\n",
       "La Renon                      1\n",
       "Gapoon                        1\n",
       "Bats on delivery              1\n",
       "MySeniorDoctor                1\n",
       "WealthTrust                   1\n",
       "Silvan Innovation Labs        1\n",
       "MoMagic                       1\n",
       "QuikWallet                    1\n",
       "LetsTransport                 1\n",
       "MeraKisan                     1\n",
       "PlaceofOrigin                 1\n",
       "LexComply                     1\n",
       "Legal Raasta                  1\n",
       "ION Energy                    1\n",
       "Lets Reap                     1\n",
       "Near.in                       1\n",
       "Happydemic                    1\n",
       "Innefu Security Consulting    1\n",
       "Puro Wellness                 1\n",
       "Stitchwood                    1\n",
       "Billion Loans                 1\n",
       "Arya.ai                       1\n",
       "Name: StartupName, Length: 1995, dtype: int64"
      ]
     },
     "execution_count": 30,
     "metadata": {},
     "output_type": "execute_result"
    }
   ],
   "source": [
    "df2['StartupName']=df2['StartupName'].replace({'Oyorooms':'Oyo','Paytm Marketplace':'Paytm',\n",
    "                                               'Oyo Rooms':'Oyo','Olacabs':'Ola',\n",
    "                                               'Ola Cabs':'Ola','Flipkart.com':'Flipkart'})\n",
    "df2.StartupName.value_counts()"
   ]
  },
  {
   "cell_type": "code",
   "execution_count": 31,
   "metadata": {},
   "outputs": [
    {
     "data": {
      "text/plain": [
       "Ola          9\n",
       "Swiggy       7\n",
       "UrbanClap    6\n",
       "Paytm        6\n",
       "Flipkart     5\n",
       "Name: StartupName, dtype: int64"
      ]
     },
     "execution_count": 31,
     "metadata": {},
     "output_type": "execute_result"
    }
   ],
   "source": [
    "top_five_startups=df2.StartupName.value_counts()[:5]\n",
    "top_five_startups"
   ]
  },
  {
   "cell_type": "code",
   "execution_count": 70,
   "metadata": {},
   "outputs": [
    {
     "data": {
      "image/png": "[encoded data removed]",
      "text/plain": [
       "<Figure size 576x432 with 1 Axes>"
      ]
     },
     "metadata": {
      "needs_background": "light"
     },
     "output_type": "display_data"
    }
   ],
   "source": [
    "figure(num=None, figsize=(8, 6))\n",
    "plt.bar(x=top_five_startups.index,height=top_five_startups.values,color='rgbyc')\n",
    "plt.xticks(rotation=90)\n",
    "plt.title('Startups vs Number of funding rounds')\n",
    "plt.ylabel(\"Number of Funding rounds\")\n",
    "plt.xlabel(\"Startups\")\n",
    "plt.show()"
   ]
  }
 ],
 "metadata": {
  "kernelspec": {
   "display_name": "Python 3",
   "language": "python",
   "name": "python3"
  },
  "language_info": {
   "codemirror_mode": {
    "name": "ipython",
    "version": 3
   },
   "file_extension": ".py",
   "mimetype": "text/x-python",
   "name": "python",
   "nbconvert_exporter": "python",
   "pygments_lexer": "ipython3",
   "version": "3.7.1"
  }
 },
 "nbformat": 4,
 "nbformat_minor": 2
}
