{
 "cells": [
  {
   "cell_type": "code",
   "execution_count": 20,
   "metadata": {},
   "outputs": [],
   "source": [
    "import pandas as pd\n",
    "import numpy as np\n",
    "import matplotlib.pyplot as plt\n",
    "import matplotlib.patches as mpatches\n",
    "import seaborn as sns"
   ]
  },
  {
   "cell_type": "code",
   "execution_count": 21,
   "metadata": {},
   "outputs": [],
   "source": [
    "data=pd.read_csv('../Case-Study/Dataset/startup_funding.csv')"
   ]
  },
  {
   "cell_type": "code",
   "execution_count": 22,
   "metadata": {},
   "outputs": [
    {
     "data": {
      "text/html": [
       "<div>\n",
       "<style scoped>\n",
       "    .dataframe tbody tr th:only-of-type {\n",
       "        vertical-align: middle;\n",
       "    }\n",
       "\n",
       "    .dataframe tbody tr th {\n",
       "        vertical-align: top;\n",
       "    }\n",
       "\n",
       "    .dataframe thead th {\n",
       "        text-align: right;\n",
       "    }\n",
       "</style>\n",
       "<table border=\"1\" class=\"dataframe\">\n",
       "  <thead>\n",
       "    <tr style=\"text-align: right;\">\n",
       "      <th></th>\n",
       "      <th>SNo</th>\n",
       "      <th>Date</th>\n",
       "      <th>StartupName</th>\n",
       "      <th>IndustryVertical</th>\n",
       "      <th>SubVertical</th>\n",
       "      <th>CityLocation</th>\n",
       "      <th>InvestorsName</th>\n",
       "      <th>InvestmentType</th>\n",
       "      <th>AmountInUSD</th>\n",
       "      <th>Remarks</th>\n",
       "    </tr>\n",
       "  </thead>\n",
       "  <tbody>\n",
       "    <tr>\n",
       "      <th>0</th>\n",
       "      <td>0</td>\n",
       "      <td>01/08/2017</td>\n",
       "      <td>TouchKin</td>\n",
       "      <td>Technology</td>\n",
       "      <td>Predictive Care Platform</td>\n",
       "      <td>Bangalore</td>\n",
       "      <td>Kae Capital</td>\n",
       "      <td>Private Equity</td>\n",
       "      <td>1,300,000</td>\n",
       "      <td>NaN</td>\n",
       "    </tr>\n",
       "    <tr>\n",
       "      <th>1</th>\n",
       "      <td>1</td>\n",
       "      <td>02/08/2017</td>\n",
       "      <td>Ethinos</td>\n",
       "      <td>Technology</td>\n",
       "      <td>Digital Marketing Agency</td>\n",
       "      <td>Mumbai</td>\n",
       "      <td>Triton Investment Advisors</td>\n",
       "      <td>Private Equity</td>\n",
       "      <td>NaN</td>\n",
       "      <td>NaN</td>\n",
       "    </tr>\n",
       "    <tr>\n",
       "      <th>2</th>\n",
       "      <td>2</td>\n",
       "      <td>02/08/2017</td>\n",
       "      <td>Leverage Edu</td>\n",
       "      <td>Consumer Internet</td>\n",
       "      <td>Online platform for Higher Education Services</td>\n",
       "      <td>New Delhi</td>\n",
       "      <td>Kashyap Deorah, Anand Sankeshwar, Deepak Jain,...</td>\n",
       "      <td>Seed Funding</td>\n",
       "      <td>NaN</td>\n",
       "      <td>NaN</td>\n",
       "    </tr>\n",
       "    <tr>\n",
       "      <th>3</th>\n",
       "      <td>3</td>\n",
       "      <td>02/08/2017</td>\n",
       "      <td>Zepo</td>\n",
       "      <td>Consumer Internet</td>\n",
       "      <td>DIY Ecommerce platform</td>\n",
       "      <td>Mumbai</td>\n",
       "      <td>Kunal Shah, LetsVenture, Anupam Mittal, Hetal ...</td>\n",
       "      <td>Seed Funding</td>\n",
       "      <td>500,000</td>\n",
       "      <td>NaN</td>\n",
       "    </tr>\n",
       "    <tr>\n",
       "      <th>4</th>\n",
       "      <td>4</td>\n",
       "      <td>02/08/2017</td>\n",
       "      <td>Click2Clinic</td>\n",
       "      <td>Consumer Internet</td>\n",
       "      <td>healthcare service aggregator</td>\n",
       "      <td>Hyderabad</td>\n",
       "      <td>Narottam Thudi, Shireesh Palle</td>\n",
       "      <td>Seed Funding</td>\n",
       "      <td>850,000</td>\n",
       "      <td>NaN</td>\n",
       "    </tr>\n",
       "  </tbody>\n",
       "</table>\n",
       "</div>"
      ],
      "text/plain": [
       "   SNo        Date   StartupName   IndustryVertical  \\\n",
       "0    0  01/08/2017      TouchKin         Technology   \n",
       "1    1  02/08/2017       Ethinos         Technology   \n",
       "2    2  02/08/2017  Leverage Edu  Consumer Internet   \n",
       "3    3  02/08/2017          Zepo  Consumer Internet   \n",
       "4    4  02/08/2017  Click2Clinic  Consumer Internet   \n",
       "\n",
       "                                     SubVertical CityLocation  \\\n",
       "0                       Predictive Care Platform    Bangalore   \n",
       "1                       Digital Marketing Agency       Mumbai   \n",
       "2  Online platform for Higher Education Services    New Delhi   \n",
       "3                         DIY Ecommerce platform       Mumbai   \n",
       "4                  healthcare service aggregator    Hyderabad   \n",
       "\n",
       "                                       InvestorsName  InvestmentType  \\\n",
       "0                                        Kae Capital  Private Equity   \n",
       "1                         Triton Investment Advisors  Private Equity   \n",
       "2  Kashyap Deorah, Anand Sankeshwar, Deepak Jain,...    Seed Funding   \n",
       "3  Kunal Shah, LetsVenture, Anupam Mittal, Hetal ...    Seed Funding   \n",
       "4                     Narottam Thudi, Shireesh Palle    Seed Funding   \n",
       "\n",
       "  AmountInUSD Remarks  \n",
       "0   1,300,000     NaN  \n",
       "1         NaN     NaN  \n",
       "2         NaN     NaN  \n",
       "3     500,000     NaN  \n",
       "4     850,000     NaN  "
      ]
     },
     "execution_count": 22,
     "metadata": {},
     "output_type": "execute_result"
    }
   ],
   "source": [
    "data.head()"
   ]
  },
  {
   "cell_type": "code",
   "execution_count": 27,
   "metadata": {},
   "outputs": [
    {
     "name": "stdout",
     "output_type": "stream",
     "text": [
      "<class 'pandas.core.frame.DataFrame'>\n",
      "RangeIndex: 2372 entries, 0 to 2371\n",
      "Data columns (total 10 columns):\n",
      "SNo                 2372 non-null int64\n",
      "Date                2372 non-null object\n",
      "StartupName         2372 non-null object\n",
      "IndustryVertical    2201 non-null object\n",
      "SubVertical         1436 non-null object\n",
      "CityLocation        2193 non-null object\n",
      "InvestorsName       2364 non-null object\n",
      "InvestmentType      2371 non-null object\n",
      "AmountInUSD         1525 non-null object\n",
      "Remarks             419 non-null object\n",
      "dtypes: int64(1), object(9)\n",
      "memory usage: 185.3+ KB\n"
     ]
    }
   ],
   "source": [
    "data['InvestorsName'].dropna(inplace=True)\n",
    "data.info()"
   ]
  },
  {
   "cell_type": "code",
   "execution_count": 28,
   "metadata": {},
   "outputs": [],
   "source": [
    "## Creating the dictionary of Investor and number of funding done\n",
    "def createDictionary(array):\n",
    "    dictionary={}\n",
    "    for i in array:\n",
    "        if ',' not in i:\n",
    "            if i.strip() in dictionary:\n",
    "                dictionary[i.strip()]=dictionary.get(i.strip())+1\n",
    "            else:\n",
    "                dictionary[i.strip()]=1   \n",
    "        else:\n",
    "            string=i.strip().split(',')\n",
    "            for j in string:\n",
    "                if j.strip() in dictionary:\n",
    "                    dictionary[j.strip()]=dictionary.get(j.strip())+1\n",
    "                else:\n",
    "                    dictionary[j.strip()]=1\n",
    "    return dictionary "
   ]
  },
  {
   "cell_type": "code",
   "execution_count": 30,
   "metadata": {},
   "outputs": [],
   "source": [
    "## Creating the dictionary\n",
    "dictionary=createDictionary(data['InvestorsName'])\n",
    "dataf=pd.DataFrame(list(dictionary.values()),list(dictionary.keys()))"
   ]
  },
  {
   "cell_type": "code",
   "execution_count": 31,
   "metadata": {},
   "outputs": [],
   "source": [
    "## Sorting the values in descending order\n",
    "dataf=dataf.sort_values(by=[0],ascending=False)"
   ]
  },
  {
   "cell_type": "code",
   "execution_count": 32,
   "metadata": {},
   "outputs": [],
   "source": [
    "# Getting the top 5 values of Investor done max number of times\n",
    "X=dataf.index[0:5]\n",
    "Y=dataf.values[0:5]\n",
    "Y=Y.reshape(5)"
   ]
  },
  {
   "cell_type": "code",
   "execution_count": 33,
   "metadata": {},
   "outputs": [
    {
     "name": "stdout",
     "output_type": "stream",
     "text": [
      "Sequoia Capital 64\n",
      "Accel Partners 53\n",
      "Kalaari Capital 44\n",
      "SAIF Partners 41\n",
      "Indian Angel Network 40\n"
     ]
    }
   ],
   "source": [
    "## Printing the Top 5 Investors\n",
    "for i in range(5):\n",
    "    print(X[i],Y[i])"
   ]
  },
  {
   "cell_type": "code",
   "execution_count": 34,
   "metadata": {},
   "outputs": [
    {
     "data": {
      "image/png": "[encoded data removed]",
      "text/plain": [
       "<Figure size 576x576 with 1 Axes>"
      ]
     },
     "metadata": {},
     "output_type": "display_data"
    }
   ],
   "source": [
    "## Ploting the City vs Number of funding done \n",
    "plt.subplots(figsize=(8,8))\n",
    "plt.xlabel(\"Investors Name\")\n",
    "plt.ylabel(\"Number of Funding Done\")\n",
    "plt.title(\"Investor vs Number of Funding Done\")\n",
    "sns.set(style=\"whitegrid\")\n",
    "tips = sns.load_dataset(\"tips\")\n",
    "ax = sns.barplot(x=X, y=Y, data=tips)"
   ]
  }
 ],
 "metadata": {
  "kernelspec": {
   "display_name": "Python 3",
   "language": "python",
   "name": "python3"
  },
  "language_info": {
   "codemirror_mode": {
    "name": "ipython",
    "version": 3
   },
   "file_extension": ".py",
   "mimetype": "text/x-python",
   "name": "python",
   "nbconvert_exporter": "python",
   "pygments_lexer": "ipython3",
   "version": "3.7.1"
  }
 },
 "nbformat": 4,
 "nbformat_minor": 2
}
